{
 "cells": [
  {
   "cell_type": "code",
   "execution_count": 84,
   "metadata": {},
   "outputs": [],
   "source": [
    "from langchain.prompts import ChatPromptTemplate, HumanMessagePromptTemplate\n",
    "prompt_template = HumanMessagePromptTemplate.from_template(\"\"\"\n",
    "Rewrite into a valid JSON. The output should only contain the fixed JSON so that it can be loaded using json.loads\n",
    "                                                           \n",
    "Input invalid JSON:\n",
    "{{\n",
    "    \"name\": \"John Doe\",\n",
    "    \"age\": 30,\n",
    "    \"isStudent\": false\n",
    "    \"address\": {{\n",
    "        \"street\": \"123 Main St\",\n",
    "        \"city\": \"Anytown\",\n",
    "        \"state\": \"CA\",\n",
    "    }}\n",
    "    \"hobbies\": [\"reading\", \"swimming\", \"cycling\"]\n",
    "}}\n",
    "Fixed JSON:\n",
    "{{\n",
    "    \"name\": \"John Doe\",\n",
    "    \"age\": 30,\n",
    "    \"isStudent\": false,\n",
    "    \"address\": {{\n",
    "        \"street\": \"123 Main St\",\n",
    "        \"city\": \"Anytown\",\n",
    "        \"state\": \"CA\"\n",
    "    }},\n",
    "    \"hobbies\": [\"reading\", \"swimming\", \"cycling\"]\n",
    "}}\n",
    "\n",
    "\n",
    "Input invalid JSON:\n",
    "{{\n",
    "    \"statement\": \"The Earth is also known as \"Terra\" \"\n",
    "}}\n",
    "Fixed JSON:\n",
    "{{\n",
    "    \"statement\": \"The Earth is also known as 'Terra'\"\n",
    "}}\n",
    "\n",
    "Input invalid JSON:\n",
    "{input}\n",
    "\n",
    "Fixed JSON:\"\"\"\n",
    ")"
   ]
  },
  {
   "cell_type": "code",
   "execution_count": 2,
   "metadata": {},
   "outputs": [],
   "source": [
    "prompt_template2 = \"\"\"\n",
    "Rewrite into a valid JSON. The output JSON should be throw the error {err} when loaded using json.loads\n",
    "\n",
    "Input:\n",
    "{{\n",
    "    \"name\": \"John Doe\",\n",
    "    \"age\": 30,\n",
    "    \"isStudent\": false\n",
    "    \"address\": {{\n",
    "        \"street\": \"123 Main St\",\n",
    "        \"city\": \"Anytown\",\n",
    "        \"state\": \"CA\",\n",
    "    }}\n",
    "    \"hobbies\": [\"reading\", \"swimming\", \"cycling\"]\n",
    "}}\n",
    "Ouput:\n",
    "{{\n",
    "    \"name\": \"John Doe\",\n",
    "    \"age\": 30,\n",
    "    \"isStudent\": false,\n",
    "    \"address\": {{\n",
    "        \"street\": \"123 Main St\",\n",
    "        \"city\": \"Anytown\",\n",
    "        \"state\": \"CA\"\n",
    "    }},\n",
    "    \"hobbies\": [\"reading\", \"swimming\", \"cycling\"]\n",
    "}}\n",
    "\n",
    "\n",
    "Input:\n",
    "{{\n",
    "    \"statement\": \"The Earth is also known as \"Terra\" \"\n",
    "}}\n",
    "Output:\n",
    "{{\n",
    "    \"statement\": \"The Earth is also known as 'Terra'\"\n",
    "}}\n",
    "\n",
    "Input:\n",
    "{input}\n",
    "\n",
    "Ouput:\"\"\" "
   ]
  },
  {
   "cell_type": "code",
   "execution_count": null,
   "metadata": {},
   "outputs": [],
   "source": [
    "from langchain.llms import HuggingFaceHub, Bedrock\n",
    "from ragas.llms import LangchainLLM\n",
    "from langchain.chains import LLMChain\n",
    "from langchain.prompts import PromptTemplate\n",
    "from langchain.chat_models import BedrockChat\n",
    "import json"
   ]
  },
  {
   "cell_type": "code",
   "execution_count": 15,
   "metadata": {},
   "outputs": [],
   "source": [
    "def bedrock_llm():\n",
    "    config = {\n",
    "        \"credentials_profile_name\": \"default\",  # E.g \"default\"\n",
    "        \"region_name\": \"us-east-1\",  # E.g. \"us-east-1\"\n",
    "        \"model_id\": \"anthropic.claude-v2\",  # E.g \"anthropic.claude-v2\"\n",
    "        \"model_kwargs\": {\"temperature\": 0.4},\n",
    "    }\n",
    "    #prompt = PromptTemplate(template=prompt_template, input_variables=[\"input\"])\n",
    "    bedrock_model = BedrockChat(\n",
    "        credentials_profile_name=config[\"credentials_profile_name\"],\n",
    "        region_name=config[\"region_name\"],\n",
    "        endpoint_url=f\"https://bedrock-runtime.{config['region_name']}.amazonaws.com\",\n",
    "        model_id=config[\"model_id\"],\n",
    "        model_kwargs=config[\"model_kwargs\"],\n",
    "    )\n",
    "    # wrapper around bedrock_model\n",
    "    ragas_bedrock_model = LangchainLLM(bedrock_model)\n",
    "    return ragas_bedrock_model"
   ]
  },
  {
   "cell_type": "code",
   "execution_count": 16,
   "metadata": {},
   "outputs": [],
   "source": [
    "def hf_llm(repo_id, prompt):\n",
    "    repo_id = repo_id\n",
    "    hf_llm = HuggingFaceHub(\n",
    "    repo_id=repo_id, model_kwargs={\"temperature\": 0.5, \"max_length\": 64,\"return_full_text\": False}\n",
    "    )\n",
    "    # wrapper around bedrock_model\n",
    "    llm_chain = LLMChain(prompt=prompt, llm=hf_llm)\n",
    "    return llm_chain"
   ]
  },
  {
   "cell_type": "code",
   "execution_count": 80,
   "metadata": {},
   "outputs": [],
   "source": [
    "import warnings\n",
    "def generate_answer(llm, prompt, text):\n",
    "    human_prompt = prompt.format(input=text)\n",
    "    prompt = ChatPromptTemplate.from_messages([human_prompt])\n",
    "    results = llm.generate(prompts=[prompt])\n",
    "    return results.generations[0][0].text.strip()\n",
    "\n",
    "\n",
    "def load_as_json(llm, prompt, text, type):\n",
    "    \"\"\"\n",
    "    validate and return given text as json\n",
    "    \"\"\"\n",
    "\n",
    "    try:\n",
    "        json_val = json.loads(text)\n",
    "        return json_val, 0, []\n",
    "    except Exception as err:\n",
    "        retry = 0\n",
    "        generations = []\n",
    "        while retry<3:\n",
    "            if type=='bedrock':\n",
    "                generated_text=generate_answer(llm, prompt, text)\n",
    "                generations.append(generated_text)\n",
    "            else:\n",
    "                generated_text= llm.run(text)\n",
    "            try:\n",
    "                return json.loads(generated_text), retry, generations\n",
    "            except ValueError as e:\n",
    "                retry+=1\n",
    "        warnings.warn(f\"Invalid json: {err}\")\n",
    "        print(err)\n",
    "        return {}, 0, generations"
   ]
  },
  {
   "cell_type": "code",
   "execution_count": 89,
   "metadata": {},
   "outputs": [],
   "source": [
    "with open('./test_json_correction.json') as f:\n",
    "    data = json.load(f)\n",
    "    "
   ]
  },
  {
   "cell_type": "code",
   "execution_count": 85,
   "metadata": {},
   "outputs": [
    {
     "name": "stdout",
     "output_type": "stream",
     "text": [
      "us-east-1\n",
      "us-east-1\n",
      "us-east-1\n"
     ]
    },
    {
     "name": "stderr",
     "output_type": "stream",
     "text": [
      "/var/folders/5k/ljq_dfpn523_hcl4l6s9v1vc0000gn/T/ipykernel_46867/2928285411.py:30: UserWarning: Invalid json: Expecting property name enclosed in double quotes: line 1 column 23 (char 22)\n",
      "  warnings.warn(f\"Invalid json: {err}\")\n"
     ]
    },
    {
     "name": "stdout",
     "output_type": "stream",
     "text": [
      "Expecting property name enclosed in double quotes: line 1 column 23 (char 22)\n",
      "us-east-1\n",
      "us-east-1\n",
      "us-east-1\n"
     ]
    },
    {
     "name": "stderr",
     "output_type": "stream",
     "text": [
      "/var/folders/5k/ljq_dfpn523_hcl4l6s9v1vc0000gn/T/ipykernel_46867/2928285411.py:30: UserWarning: Invalid json: Expecting property name enclosed in double quotes: line 1 column 43 (char 42)\n",
      "  warnings.warn(f\"Invalid json: {err}\")\n"
     ]
    },
    {
     "name": "stdout",
     "output_type": "stream",
     "text": [
      "Expecting property name enclosed in double quotes: line 1 column 43 (char 42)\n",
      "us-east-1\n",
      "us-east-1\n",
      "us-east-1\n",
      "Expecting ',' delimiter: line 1 column 42 (char 41)\n"
     ]
    },
    {
     "name": "stderr",
     "output_type": "stream",
     "text": [
      "/var/folders/5k/ljq_dfpn523_hcl4l6s9v1vc0000gn/T/ipykernel_46867/2928285411.py:30: UserWarning: Invalid json: Expecting ',' delimiter: line 1 column 42 (char 41)\n",
      "  warnings.warn(f\"Invalid json: {err}\")\n"
     ]
    }
   ],
   "source": [
    "final = []\n",
    "llm = bedrock_llm()\n",
    "for i in data['inputs'][:3]:\n",
    "    res, retry, generations = load_as_json(llm, prompt_template, i, 'bedrock')\n",
    "    final.append([res, retry, generations])"
   ]
  },
  {
   "cell_type": "code",
   "execution_count": 86,
   "metadata": {},
   "outputs": [
    {
     "data": {
      "text/plain": [
       "[[{},\n",
       "  0,\n",
       "  ['Here is the fixed valid JSON:\\n\\n{\\n  \"name\": \"John Doe\",\\n  \"age\": 30,\\n  \"city\": \"New York\"\\n}',\n",
       "   'Here is the fixed valid JSON:\\n\\n{\\n  \"name\": \"John Doe\",\\n  \"age\": 30,\\n  \"city\": \"New York\"\\n}',\n",
       "   'Here is the fixed valid JSON:\\n\\n{\\n  \"name\": \"John Doe\",\\n  \"age\": 30,\\n  \"city\": \"New York\"\\n}']],\n",
       " [{},\n",
       "  0,\n",
       "  ['Here is the fixed valid JSON for the given invalid JSON inputs:\\n\\n{\\n    \"name\": \"John Doe\", \\n    \"age\": 30,\\n    \"isStudent\": false,\\n    \"address\": {\\n        \"street\": \"123 Main St\",\\n        \"city\": \"Anytown\",\\n        \"state\": \"CA\"\\n    },\\n    \"hobbies\": [\"reading\", \"swimming\", \"cycling\"]\\n}\\n\\n{\\n    \"statement\": \"The Earth is also known as \\'Terra\\'\"\\n}\\n\\n[\\n    {\\n        \"item1\": \"value1\",\\n        \"item2\": \"value2\"\\n    }\\n]',\n",
       "   'Here is the fixed valid JSON for the given invalid JSON inputs:\\n\\n{\\n    \"name\": \"John Doe\", \\n    \"age\": 30,\\n    \"isStudent\": false,\\n    \"address\": {\\n        \"street\": \"123 Main St\",\\n        \"city\": \"Anytown\",\\n        \"state\": \"CA\"\\n    },\\n    \"hobbies\": [\"reading\", \"swimming\", \"cycling\"]\\n}\\n\\n{\\n    \"statement\": \"The Earth is also known as \\'Terra\\'\"\\n}\\n\\n[\\n    {\\n        \"item1\": \"value1\",\\n        \"item2\": \"value2\"\\n    }\\n]',\n",
       "   'Here is the fixed valid JSON for the given invalid JSON inputs:\\n\\n{\\n    \"name\": \"John Doe\", \\n    \"age\": 30,\\n    \"isStudent\": false,\\n    \"address\": {\\n        \"street\": \"123 Main St\",\\n        \"city\": \"Anytown\",\\n        \"state\": \"CA\"\\n    },\\n    \"hobbies\": [\"reading\", \"swimming\", \"cycling\"]\\n}\\n\\n{\\n    \"statement\": \"The Earth is also known as \\'Terra\\'\"\\n}\\n\\n[\\n    {\\n        \"item1\": \"value1\",\\n        \"item2\": \"value2\"\\n    }\\n]']],\n",
       " [{},\n",
       "  0,\n",
       "  ['Here is the fixed valid JSON:\\n\\n{\\n    \"name\": \"John Doe\", \\n    \"age\": 30,\\n    \"isStudent\": false,\\n    \"address\": {\\n        \"street\": \"123 Main St\",\\n        \"city\": \"Anytown\",\\n        \"state\": \"CA\"\\n    },\\n    \"hobbies\": [\"reading\", \"swimming\", \"cycling\"]\\n}\\n\\n{\\n    \"statement\": \"The Earth is also known as \\'Terra\\'\"\\n}\\n\\n{\\n  \"employees\": [\"John\", \"Anna\", \"Peter\"]\\n}',\n",
       "   'Here is the fixed valid JSON:\\n\\n{\\n    \"name\": \"John Doe\", \\n    \"age\": 30,\\n    \"isStudent\": false,\\n    \"address\": {\\n        \"street\": \"123 Main St\",\\n        \"city\": \"Anytown\",\\n        \"state\": \"CA\"\\n    },\\n    \"hobbies\": [\"reading\", \"swimming\", \"cycling\"]\\n}\\n\\n{\\n    \"statement\": \"The Earth is also known as \\'Terra\\'\"\\n}\\n\\n{\\n  \"employees\": [\"John\", \"Anna\", \"Peter\"]\\n}',\n",
       "   'Here is the fixed valid JSON:\\n\\n{\\n    \"name\": \"John Doe\", \\n    \"age\": 30,\\n    \"isStudent\": false,\\n    \"address\": {\\n        \"street\": \"123 Main St\",\\n        \"city\": \"Anytown\",\\n        \"state\": \"CA\"\\n    },\\n    \"hobbies\": [\"reading\", \"swimming\", \"cycling\"]\\n}\\n\\n{\\n    \"statement\": \"The Earth is also known as \\'Terra\\'\"\\n}\\n\\n{\\n  \"employees\": [\"John\", \"Anna\", \"Peter\"]\\n}']]]"
      ]
     },
     "execution_count": 86,
     "metadata": {},
     "output_type": "execute_result"
    }
   ],
   "source": [
    "final"
   ]
  },
  {
   "cell_type": "code",
   "execution_count": null,
   "metadata": {},
   "outputs": [],
   "source": []
  }
 ],
 "metadata": {
  "kernelspec": {
   "display_name": "Python 3",
   "language": "python",
   "name": "python3"
  },
  "language_info": {
   "codemirror_mode": {
    "name": "ipython",
    "version": 3
   },
   "file_extension": ".py",
   "mimetype": "text/x-python",
   "name": "python",
   "nbconvert_exporter": "python",
   "pygments_lexer": "ipython3",
   "version": "3.10.8"
  }
 },
 "nbformat": 4,
 "nbformat_minor": 2
}
